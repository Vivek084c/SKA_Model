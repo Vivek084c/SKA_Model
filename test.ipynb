{
 "cells": [
  {
   "cell_type": "code",
   "execution_count": null,
   "metadata": {},
   "outputs": [],
   "source": [
    "import torch\n",
    "import torch.nn as nn\n",
    "import numpy as np\n",
    "import matplotlib.pyplot as plt\n",
    "import seaborn as sns\n",
    "from torchvision import datasets, transforms\n",
    "from torch.utils.data import DataLoader, TensorDataset\n",
    "import time"
   ]
  },
  {
   "cell_type": "code",
   "execution_count": 2,
   "metadata": {},
   "outputs": [],
   "source": [
    "# Load the pre-saved MNIST subset (100 samples per class)\n",
    "mnist_subset = torch.load(\"mnist_subset_100_per_class.pt\")\n",
    "images = torch.stack([item[0] for item in mnist_subset])  # Shape: [1000, 1, 28, 28]\n",
    "labels = torch.tensor([item[1] for item in mnist_subset])"
   ]
  },
  {
   "cell_type": "code",
   "execution_count": null,
   "metadata": {},
   "outputs": [
    {
     "data": {
      "text/plain": [
       "torch.Size([1000, 1, 28, 28])"
      ]
     },
     "execution_count": 3,
     "metadata": {},
     "output_type": "execute_result"
    }
   ],
   "source": [
    "images.shape # 1000 image each of size "
   ]
  },
  {
   "cell_type": "code",
   "execution_count": 4,
   "metadata": {},
   "outputs": [
    {
     "data": {
      "text/plain": [
       "torch.Size([1000])"
      ]
     },
     "execution_count": 4,
     "metadata": {},
     "output_type": "execute_result"
    }
   ],
   "source": [
    "labels.shape"
   ]
  },
  {
   "cell_type": "code",
   "execution_count": 5,
   "metadata": {},
   "outputs": [],
   "source": [
    "# Prepare the dataset (single batch for SKA forward learning)\n",
    "inputs = images  # No mini-batches, full dataset used for forward-only updates"
   ]
  },
  {
   "cell_type": "code",
   "execution_count": 64,
   "metadata": {},
   "outputs": [
    {
     "data": {
      "text/plain": [
       "torch.Size([1000, 1, 28, 28])"
      ]
     },
     "execution_count": 64,
     "metadata": {},
     "output_type": "execute_result"
    }
   ],
   "source": [
    "inputs.shape"
   ]
  },
  {
   "cell_type": "code",
   "execution_count": 77,
   "metadata": {},
   "outputs": [],
   "source": [
    "\n",
    "# Define the SKA model with 4 layers\n",
    "class SKAModel(nn.Module):\n",
    "    def __init__(self, input_size=784, layer_sizes=[256, 128, 64, 10], K=50):\n",
    "        super(SKAModel, self).__init__()\n",
    "        self.input_size = input_size\n",
    "        self.layer_sizes = layer_sizes\n",
    "        self.K = K  # Number of forward steps\n",
    "\n",
    "        # Initialize weights and biases as nn.ParameterList\n",
    "        self.weights = nn.ParameterList()\n",
    "        self.biases = nn.ParameterList()\n",
    "        prev_size = input_size\n",
    "        for size in layer_sizes:\n",
    "            self.weights.append(nn.Parameter(torch.randn(prev_size, size) * 0.01))\n",
    "            self.biases.append(nn.Parameter(torch.zeros(size)))\n",
    "            prev_size = size\n",
    "\n",
    "        # Tracking tensors for knowledge accumulation and entropy computation\n",
    "        self.Z = [None] * len(layer_sizes)  # Knowledge tensors per layer\n",
    "        self.D = [None] * len(layer_sizes)  # Decision probability tensors\n",
    "        self.D_prev = [None] * len(layer_sizes)  # Previous decisions for computing shifts\n",
    "        self.delta_D = [None] * len(layer_sizes)  # Decision shifts per step\n",
    "        self.entropy = [None] * len(layer_sizes)  # Layer-wise entropy storage\n",
    "\n",
    "        # Store entropy, cosine, and output distribution history for visualization\n",
    "        self.entropy_history = [[] for _ in range(len(layer_sizes))]\n",
    "        self.cosine_history = [[] for _ in range(len(layer_sizes))]\n",
    "        self.output_history = []  # New: Store mean output distribution (10 classes) per step\n",
    "\n",
    "    \n",
    "    def forward(self, x):\n",
    "        \"\"\"Computes SKA forward pass, storing knowledge and decisions.\"\"\"\n",
    "        batch_size = x.shape[0]\n",
    "        x = x.view(batch_size, -1)  # Flatten images\n",
    "\n",
    "        for l in range(len(self.layer_sizes)):\n",
    "            # Compute knowledge tensor Z = Wx + b\n",
    "            print(x.shape)\n",
    "            print(self.weights[l].shape)\n",
    "            break\n",
    "            z = torch.mm(x, self.weights[l]) + self.biases[l]\n",
    "            # Apply sigmoid activation to get decision probabilities\n",
    "            d = torch.sigmoid(z)\n",
    "            # Store values for entropy computation\n",
    "            self.Z[l] = z\n",
    "            self.D[l] = d\n",
    "            x = d  # Output becomes input for the next layer\n",
    "            \n",
    "\n",
    "        # return x\n"
   ]
  },
  {
   "cell_type": "code",
   "execution_count": 78,
   "metadata": {},
   "outputs": [],
   "source": [
    "\n",
    "def forward(self, x):\n",
    "    \"\"\"Computes SKA forward pass, storing knowledge and decisions.\"\"\"\n",
    "    batch_size = x.shape[0]\n",
    "    x = x.view(batch_size, -1)  # Flatten images\n",
    "\n",
    "    for l in range(len(self.layer_sizes)):\n",
    "        # Compute knowledge tensor Z = Wx + b\n",
    "        z = torch.mm(x, self.weights[l]) + self.biases[l]\n",
    "        # Apply sigmoid activation to get decision probabilities\n",
    "        d = torch.sigmoid(z)\n",
    "        # Store values for entropy computation\n",
    "        self.Z[l] = z\n",
    "        self.D[l] = d\n",
    "        x = d  # Output becomes input for the next layer\n",
    "\n",
    "    return x"
   ]
  },
  {
   "cell_type": "markdown",
   "metadata": {},
   "source": [
    "### training "
   ]
  },
  {
   "cell_type": "code",
   "execution_count": 79,
   "metadata": {},
   "outputs": [],
   "source": [
    "# Training parameters\n",
    "model = SKAModel()\n",
    "learning_rate = 0.01\n",
    "\n",
    "# SKA training over multiple forward steps\n",
    "total_entropy = 0\n",
    "step_count = 0\n",
    "start_time = time.time()\n",
    "\n",
    "# Initialize tensors for first step\n",
    "# model.initialize_tensors(inputs.size(0))"
   ]
  },
  {
   "cell_type": "code",
   "execution_count": 80,
   "metadata": {},
   "outputs": [
    {
     "data": {
      "text/plain": [
       "1000"
      ]
     },
     "execution_count": 80,
     "metadata": {},
     "output_type": "execute_result"
    }
   ],
   "source": [
    "inputs.shape[0] # we get the number of inputsinputs.shape[0]"
   ]
  },
  {
   "cell_type": "code",
   "execution_count": 81,
   "metadata": {},
   "outputs": [
    {
     "data": {
      "text/plain": [
       "torch.Size([1000, 784])"
      ]
     },
     "execution_count": 81,
     "metadata": {},
     "output_type": "execute_result"
    }
   ],
   "source": [
    "inputs.view(inputs.shape[0], -1).shape"
   ]
  },
  {
   "cell_type": "code",
   "execution_count": 82,
   "metadata": {},
   "outputs": [
    {
     "name": "stdout",
     "output_type": "stream",
     "text": [
      "torch.Size([1000, 784])\n",
      "torch.Size([784, 256])\n"
     ]
    }
   ],
   "source": [
    "model.forward(inputs)"
   ]
  },
  {
   "cell_type": "code",
   "execution_count": null,
   "metadata": {},
   "outputs": [],
   "source": []
  },
  {
   "cell_type": "code",
   "execution_count": null,
   "metadata": {},
   "outputs": [],
   "source": []
  }
 ],
 "metadata": {
  "kernelspec": {
   "display_name": "tensorflow",
   "language": "python",
   "name": "python3"
  },
  "language_info": {
   "codemirror_mode": {
    "name": "ipython",
    "version": 3
   },
   "file_extension": ".py",
   "mimetype": "text/x-python",
   "name": "python",
   "nbconvert_exporter": "python",
   "pygments_lexer": "ipython3",
   "version": "3.10.14"
  }
 },
 "nbformat": 4,
 "nbformat_minor": 2
}
